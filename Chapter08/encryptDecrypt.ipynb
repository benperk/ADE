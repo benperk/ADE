{
  "cells": [
    {
      "cell_type": "code",
      "source": [
        "%%pyspark\r\n",
        "from cryptography.fernet import Fernet\r\n",
        "encryptionKey = Fernet.generate_key()\r\n",
        "ek = Fernet(encryptionKey)\r\n",
        "print(encryptionKey)\r\n",
        "df = spark.read.load('abfss://container@account.dfs.core.windows.net/SUBJECTS.parquet')\r\n",
        "dfp = df.toPandas()\r\n",
        "dfp['BIRTHDATE'] = dfp['BIRTHDATE'].apply(lambda x: ek.encrypt(bytes(x, 'utf-8')))\r\n",
        "dfp_encrypted = dfp[['FIRSTNAME', 'LASTNAME', 'BIRTHDATE', 'USERNAME', 'EMAIL', 'ZIPCODE', 'COUNTRY']]\r\n",
        "display(dfp_encrypted)\r\n",
        "dfp['BIRTHDATE'] = dfp['BIRTHDATE'].apply(lambda x: ek.decrypt(x))\r\n",
        "dfp_decrypted = dfp[['FIRSTNAME', 'LASTNAME', 'BIRTHDATE', 'USERNAME', 'EMAIL', 'ZIPCODE', 'COUNTRY']]\r\n",
        "display(dfp_decrypted)\r\n",
        "\r\n",
        "dek = Fernet('MHfAzNysASlvESYfPumo4JiJmBRZm5Dpj2g8ovGGdMg=')\r\n",
        "print(dek.decrypt(b'gAAAAABjWPLpmIlNVafUqkEKdipfevd4HL7ZO_F8xYvM4O0LGvY8hg3ULB29ZYoBYNT7lIx1Y0ojvnF9MOHZPZlbUMNFfuvi1g=='))"
      ],
      "outputs": [
        {
          "output_type": "display_data",
          "data": {
            "application/vnd.livy.statement-meta+json": {
              "spark_pool": "SparkPoolVnet",
              "session_id": "0",
              "statement_id": 169,
              "state": "finished",
              "livy_statement_state": "available",
              "queued_time": "2022-10-26T08:54:33.6860254Z",
              "session_start_time": null,
              "execution_start_time": "2022-10-26T08:54:33.8106966Z",
              "execution_finish_time": "2022-10-26T08:54:35.6885717Z",
              "spark_jobs": null
            },
            "text/plain": "StatementMeta(SparkPoolVnet, 0, 169, Finished, Available)"
          },
          "metadata": {}
        },
        {
          "output_type": "stream",
          "name": "stdout",
          "text": [
            "b'dLatVQDR9t_uOQs9sDwaTWp7OaRhw6WC_PjDflV07l8='\n"
          ]
        },
        {
          "output_type": "display_data",
          "data": {
            "application/vnd.synapse.widget-view+json": {
              "widget_id": "ebae8d90-fef0-4937-967b-9a352c298cd6",
              "widget_type": "Synapse.DataFrame"
            },
            "text/plain": "SynapseWidget(Synapse.DataFrame, ebae8d90-fef0-4937-967b-9a352c298cd6)"
          },
          "metadata": {}
        },
        {
          "output_type": "display_data",
          "data": {
            "application/vnd.synapse.widget-view+json": {
              "widget_id": "15d91a31-9822-4850-91c2-cce264d995df",
              "widget_type": "Synapse.DataFrame"
            },
            "text/plain": "SynapseWidget(Synapse.DataFrame, 15d91a31-9822-4850-91c2-cce264d995df)"
          },
          "metadata": {}
        },
        {
          "output_type": "stream",
          "name": "stdout",
          "text": [
            "b'1/1/1989'\n"
          ]
        }
      ],
      "execution_count": 169,
      "metadata": {
        "microsoft": {
          "language": "python"
        },
        "collapsed": false
      }
    }
  ],
  "metadata": {
    "language_info": {
      "name": "python"
    },
    "kernelspec": {
      "name": "synapse_pyspark",
      "language": "Python",
      "display_name": "Synapse PySpark"
    },
    "kernel_info": {
      "name": "synapse_pyspark"
    },
    "save_output": false,
    "synapse_widget": {
      "version": "0.1",
      "state": {
        "ebae8d90-fef0-4937-967b-9a352c298cd6": {
          "type": "Synapse.DataFrame",
          "sync_state": {
            "table": {
              "rows": [
                {
                  "0": "BENJAMIN",
                  "1": "PERKINS",
                  "2": "gAAAAABjWPXL_ITKzK2xcHkbhs_mNo4V4TILKWkgu3W3uXhJhqy-ITl5xv0fcdMOPzFDcIi_El0FyzCeI-9pFnfRb-sdC278WA==",
                  "3": "CSHARPGUITAR",
                  "4": "benjamin@csharpguitar.net",
                  "5": "70000",
                  "6": "USA"
                },
                {
                  "0": "RUAL",
                  "1": "PERKINS",
                  "2": "gAAAAABjWPXLRilJbrvorDKsosUbGqvoujDPAKgRcIgNyzBBcLc4q5_7RDRr3fmPaCaSJXe7HmNAGaISHPobIL_v-9RwbETjew==",
                  "3": "DANCEMEISTER",
                  "4": "rual@csharpguitar.net",
                  "5": "70001",
                  "6": "USA"
                }
              ],
              "schema": [
                {
                  "key": "0",
                  "name": "FIRSTNAME",
                  "type": "string"
                },
                {
                  "key": "1",
                  "name": "LASTNAME",
                  "type": "string"
                },
                {
                  "key": "2",
                  "name": "BIRTHDATE",
                  "type": "string"
                },
                {
                  "key": "3",
                  "name": "USERNAME",
                  "type": "string"
                },
                {
                  "key": "4",
                  "name": "EMAIL",
                  "type": "string"
                },
                {
                  "key": "5",
                  "name": "ZIPCODE",
                  "type": "string"
                },
                {
                  "key": "6",
                  "name": "COUNTRY",
                  "type": "string"
                }
              ],
              "truncated": false
            },
            "isSummary": false,
            "language": "scala"
          },
          "persist_state": {
            "view": {
              "type": "details",
              "tableOptions": {},
              "chartOptions": {
                "chartType": "bar",
                "aggregationType": "count",
                "categoryFieldKeys": [
                  "0"
                ],
                "seriesFieldKeys": [
                  "0"
                ],
                "isStacked": false
              }
            }
          }
        },
        "15d91a31-9822-4850-91c2-cce264d995df": {
          "type": "Synapse.DataFrame",
          "sync_state": {
            "table": {
              "rows": [
                {
                  "0": "BENJAMIN",
                  "1": "PERKINS",
                  "2": "1/1/1989",
                  "3": "CSHARPGUITAR",
                  "4": "benjamin@csharpguitar.net",
                  "5": "70000",
                  "6": "USA"
                },
                {
                  "0": "RUAL",
                  "1": "PERKINS",
                  "2": "1/1/1918",
                  "3": "DANCEMEISTER",
                  "4": "rual@csharpguitar.net",
                  "5": "70001",
                  "6": "USA"
                }
              ],
              "schema": [
                {
                  "key": "0",
                  "name": "FIRSTNAME",
                  "type": "string"
                },
                {
                  "key": "1",
                  "name": "LASTNAME",
                  "type": "string"
                },
                {
                  "key": "2",
                  "name": "BIRTHDATE",
                  "type": "string"
                },
                {
                  "key": "3",
                  "name": "USERNAME",
                  "type": "string"
                },
                {
                  "key": "4",
                  "name": "EMAIL",
                  "type": "string"
                },
                {
                  "key": "5",
                  "name": "ZIPCODE",
                  "type": "string"
                },
                {
                  "key": "6",
                  "name": "COUNTRY",
                  "type": "string"
                }
              ],
              "truncated": false
            },
            "isSummary": false,
            "language": "scala"
          },
          "persist_state": {
            "view": {
              "type": "details",
              "tableOptions": {},
              "chartOptions": {
                "chartType": "bar",
                "aggregationType": "count",
                "categoryFieldKeys": [
                  "0"
                ],
                "seriesFieldKeys": [
                  "0"
                ],
                "isStacked": false
              }
            }
          }
        }
      }
    }
  },
  "nbformat": 4,
  "nbformat_minor": 2
}