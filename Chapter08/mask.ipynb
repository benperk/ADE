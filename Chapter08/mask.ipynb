{
  "cells": [
    {
      "cell_type": "code",
      "source": [
        "%%pyspark\r\n",
        "from pyspark.sql.functions import instr, expr\r\n",
        "df = spark.read.load('abfss://container@account.dfs.core.windows.net/SUBJECTS.parquet')\r\n",
        "df = df.withColumn('pos_at', instr('EMAIL', '@')).withColumn('EMAIL_MASK', expr(\"\"\"\r\n",
        "    CONCAT(LEFT(EMAIL,{0}), REPEAT('*', pos_at-1-2*{0}), SUBSTR(EMAIL, pos_at-{0}))\r\n",
        "    \"\"\".format(1)))\r\n",
        "df.select(df.FIRSTNAME,df.LASTNAME, df.USERNAME,df.EMAIL_MASK).show(truncate=False)"
      ],
      "outputs": [
        {
          "output_type": "display_data",
          "data": {
            "application/vnd.livy.statement-meta+json": {
              "spark_pool": "SparkPoolVnet",
              "session_id": "0",
              "statement_id": 187,
              "state": "finished",
              "livy_statement_state": "available",
              "queued_time": "2022-10-26T09:22:18.0373075Z",
              "session_start_time": null,
              "execution_start_time": "2022-10-26T09:22:18.1999173Z",
              "execution_finish_time": "2022-10-26T09:22:19.3206736Z",
              "spark_jobs": null
            },
            "text/plain": "StatementMeta(SparkPoolVnet, 0, 187, Finished, Available)"
          },
          "metadata": {}
        },
        {
          "output_type": "stream",
          "name": "stdout",
          "text": [
            "+---------+--------+------------+-------------------------+\n|FIRSTNAME|LASTNAME|USERNAME    |EMAIL_MASK               |\n+---------+--------+------------+-------------------------+\n|BENJAMIN |PERKINS |CSHARPGUITAR|b******n@csharpguitar.net|\n|RUAL     |PERKINS |DANCEMEISTER|r**l@csharpguitar.net    |\n+---------+--------+------------+-------------------------+\n\n"
          ]
        }
      ],
      "execution_count": 187,
      "metadata": {
        "microsoft": {
          "language": "python"
        },
        "collapsed": false
      }
    }
  ],
  "metadata": {
    "language_info": {
      "name": "python"
    },
    "kernelspec": {
      "name": "synapse_pyspark",
      "language": "Python",
      "display_name": "Synapse PySpark"
    },
    "kernel_info": {
      "name": "synapse_pyspark"
    },
    "save_output": false,
    "synapse_widget": {
      "version": "0.1",
      "state": {}
    }
  },
  "nbformat": 4,
  "nbformat_minor": 2
}